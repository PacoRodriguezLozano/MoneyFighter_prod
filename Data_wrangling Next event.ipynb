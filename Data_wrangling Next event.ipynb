{
 "cells": [
  {
   "cell_type": "markdown",
   "id": "c344b629",
   "metadata": {},
   "source": [
    "# Adquisicion, limpieza y manejo de los datos"
   ]
  },
  {
   "cell_type": "markdown",
   "id": "61fc9639",
   "metadata": {},
   "source": [
    "#### Importante: Si no deseas replicar la parte de adquisicion de los datos mediante web scraping, sigue las notas indicadas al principio de cada apartado del notebook"
   ]
  },
  {
   "cell_type": "markdown",
   "id": "34644285",
   "metadata": {},
   "source": [
    "# Importar librerias"
   ]
  },
  {
   "cell_type": "code",
   "execution_count": 1,
   "id": "073d5a3d",
   "metadata": {},
   "outputs": [],
   "source": [
    "from bs4 import BeautifulSoup as BS\n",
    "import requests\n",
    "import time\n",
    "import pandas as pd\n",
    "import numpy as np\n",
    "import matplotlib.pyplot as plt\n",
    "import seaborn as sns\n",
    "import string\n",
    "import re\n",
    "from datetime import datetime\n",
    "\n",
    "import joblib \n",
    "\n",
    "\n",
    "pd.options.display.max_rows = None\n",
    "pd.options.display.max_columns = None"
   ]
  },
  {
   "cell_type": "markdown",
   "id": "bb071e3d",
   "metadata": {},
   "source": [
    "#### Resumen Web Scraping\n",
    "* Se extraen por separado las estadisitcas intrinsecas de los peleadores y el listado de las peleas y eventos de UFC\n",
    "* Posteriormente se unirán para usar las estadisticas de los peleadroes para predecir el resultado"
   ]
  },
  {
   "cell_type": "markdown",
   "id": "215124c9",
   "metadata": {},
   "source": [
    "#### Descripcion de las variables que se obtiene del webscraping\n",
    "SLpM - Significant Strikes Landed per Minute \n",
    "\n",
    "Str. Acc. - Significant Striking Accuracy \n",
    "\n",
    "SApM - Significant Strikes Absorbed per Minute\n",
    "\n",
    "Str. Def. - Significant Strike Defence (the % of opponents strikes that did not land)\n",
    "\n",
    "TD Avg. - Average Takedowns Landed per 15 minutes\n",
    "\n",
    "TD Acc. - Takedown Accuracy\n",
    "\n",
    "TD Def. - Takedown Defense (the % of opponents TD attempts that did not land)\n",
    "\n",
    "Sub. Avg. - Average Submissions Attempted per 15 minutes "
   ]
  },
  {
   "cell_type": "markdown",
   "id": "ab5e327e",
   "metadata": {},
   "source": [
    "# 1. Scraping Next Event"
   ]
  },
  {
   "cell_type": "markdown",
   "id": "33318d0c",
   "metadata": {},
   "source": [
    "* Scraping pagina eventos ufc: http://ufcstats.com/statistics/events/completed"
   ]
  },
  {
   "cell_type": "code",
   "execution_count": 2,
   "id": "c2a2cf27",
   "metadata": {},
   "outputs": [],
   "source": [
    "# Obtenemos todos los eventos\n",
    "bouts_link = 'http://ufcstats.com/statistics/events/completed?page=all'\n",
    "events_v2 = pd.read_html(bouts_link)[0]"
   ]
  },
  {
   "cell_type": "code",
   "execution_count": 3,
   "id": "6c7c1fd7",
   "metadata": {},
   "outputs": [
    {
     "data": {
      "text/plain": [
       "'http://ufcstats.com/event-details/a780d16cf7eed44d'"
      ]
     },
     "execution_count": 3,
     "metadata": {},
     "output_type": "execute_result"
    }
   ],
   "source": [
    "response = requests.get(bouts_link)\n",
    "soup = BS(response.text)\n",
    "scrap_table = soup.find('tbody')\n",
    "next_event = scrap_table.find_all('a')[0]['href']\n",
    "next_event"
   ]
  },
  {
   "cell_type": "code",
   "execution_count": 4,
   "id": "9f55fe17",
   "metadata": {},
   "outputs": [
    {
     "data": {
      "text/html": [
       "<div>\n",
       "<style scoped>\n",
       "    .dataframe tbody tr th:only-of-type {\n",
       "        vertical-align: middle;\n",
       "    }\n",
       "\n",
       "    .dataframe tbody tr th {\n",
       "        vertical-align: top;\n",
       "    }\n",
       "\n",
       "    .dataframe thead th {\n",
       "        text-align: right;\n",
       "    }\n",
       "</style>\n",
       "<table border=\"1\" class=\"dataframe\">\n",
       "  <thead>\n",
       "    <tr style=\"text-align: right;\">\n",
       "      <th></th>\n",
       "      <th>Fighter</th>\n",
       "      <th>Weight class</th>\n",
       "    </tr>\n",
       "  </thead>\n",
       "  <tbody>\n",
       "    <tr>\n",
       "      <th>0</th>\n",
       "      <td>Josh Emmett  Ilia Topuria</td>\n",
       "      <td>Featherweight</td>\n",
       "    </tr>\n",
       "    <tr>\n",
       "      <th>1</th>\n",
       "      <td>Amanda Ribas  Maycee Barber</td>\n",
       "      <td>Women's Flyweight</td>\n",
       "    </tr>\n",
       "    <tr>\n",
       "      <th>2</th>\n",
       "      <td>Austen Lane  Justin Tafa</td>\n",
       "      <td>Heavyweight</td>\n",
       "    </tr>\n",
       "    <tr>\n",
       "      <th>3</th>\n",
       "      <td>David Onama  Gabriel Santos</td>\n",
       "      <td>Featherweight</td>\n",
       "    </tr>\n",
       "    <tr>\n",
       "      <th>4</th>\n",
       "      <td>Brendan Allen  Bruno Silva</td>\n",
       "      <td>Middleweight</td>\n",
       "    </tr>\n",
       "  </tbody>\n",
       "</table>\n",
       "</div>"
      ],
      "text/plain": [
       "                       Fighter       Weight class\n",
       "0    Josh Emmett  Ilia Topuria      Featherweight\n",
       "1  Amanda Ribas  Maycee Barber  Women's Flyweight\n",
       "2     Austen Lane  Justin Tafa        Heavyweight\n",
       "3  David Onama  Gabriel Santos      Featherweight\n",
       "4   Brendan Allen  Bruno Silva       Middleweight"
      ]
     },
     "execution_count": 4,
     "metadata": {},
     "output_type": "execute_result"
    }
   ],
   "source": [
    "response = requests.get(next_event)\n",
    "soup = BS(response.text)\n",
    "fights = pd.read_html(next_event)[0]\n",
    "fights = fights[['Fighter', 'Weight class']].copy()\n",
    "fights.head()"
   ]
  },
  {
   "cell_type": "code",
   "execution_count": 5,
   "id": "ee03d6e8",
   "metadata": {},
   "outputs": [
    {
     "data": {
      "text/plain": [
       "Index(['Fighter', 'Weight class'], dtype='object')"
      ]
     },
     "execution_count": 5,
     "metadata": {},
     "output_type": "execute_result"
    }
   ],
   "source": [
    "fights.columns"
   ]
  },
  {
   "cell_type": "code",
   "execution_count": 6,
   "id": "c2b5bb2d",
   "metadata": {},
   "outputs": [
    {
     "data": {
      "text/html": [
       "<div>\n",
       "<style scoped>\n",
       "    .dataframe tbody tr th:only-of-type {\n",
       "        vertical-align: middle;\n",
       "    }\n",
       "\n",
       "    .dataframe tbody tr th {\n",
       "        vertical-align: top;\n",
       "    }\n",
       "\n",
       "    .dataframe thead th {\n",
       "        text-align: right;\n",
       "    }\n",
       "</style>\n",
       "<table border=\"1\" class=\"dataframe\">\n",
       "  <thead>\n",
       "    <tr style=\"text-align: right;\">\n",
       "      <th></th>\n",
       "      <th>Weight class</th>\n",
       "      <th>Red</th>\n",
       "      <th>Blue</th>\n",
       "    </tr>\n",
       "  </thead>\n",
       "  <tbody>\n",
       "    <tr>\n",
       "      <th>0</th>\n",
       "      <td>Featherweight</td>\n",
       "      <td>Josh Emmett</td>\n",
       "      <td>Ilia Topuria</td>\n",
       "    </tr>\n",
       "    <tr>\n",
       "      <th>1</th>\n",
       "      <td>Women's Flyweight</td>\n",
       "      <td>Amanda Ribas</td>\n",
       "      <td>Maycee Barber</td>\n",
       "    </tr>\n",
       "    <tr>\n",
       "      <th>2</th>\n",
       "      <td>Heavyweight</td>\n",
       "      <td>Austen Lane</td>\n",
       "      <td>Justin Tafa</td>\n",
       "    </tr>\n",
       "    <tr>\n",
       "      <th>3</th>\n",
       "      <td>Featherweight</td>\n",
       "      <td>David Onama</td>\n",
       "      <td>Gabriel Santos</td>\n",
       "    </tr>\n",
       "    <tr>\n",
       "      <th>4</th>\n",
       "      <td>Middleweight</td>\n",
       "      <td>Brendan Allen</td>\n",
       "      <td>Bruno Silva</td>\n",
       "    </tr>\n",
       "  </tbody>\n",
       "</table>\n",
       "</div>"
      ],
      "text/plain": [
       "        Weight class            Red            Blue\n",
       "0      Featherweight    Josh Emmett    Ilia Topuria\n",
       "1  Women's Flyweight   Amanda Ribas   Maycee Barber\n",
       "2        Heavyweight    Austen Lane     Justin Tafa\n",
       "3      Featherweight    David Onama  Gabriel Santos\n",
       "4       Middleweight  Brendan Allen     Bruno Silva"
      ]
     },
     "execution_count": 6,
     "metadata": {},
     "output_type": "execute_result"
    }
   ],
   "source": [
    "peleadores = fights['Fighter'].str.split('  ', expand = True)\n",
    "fights['Red'] = peleadores[0].copy()\n",
    "fights['Blue'] = peleadores[1].copy()\n",
    "fights.drop('Fighter', axis = 1, inplace = True)\n",
    "fights.head()"
   ]
  },
  {
   "cell_type": "code",
   "execution_count": 7,
   "id": "5b9663ce",
   "metadata": {},
   "outputs": [
    {
     "name": "stderr",
     "output_type": "stream",
     "text": [
      "C:\\Users\\Paco\\anaconda3\\lib\\site-packages\\sklearn\\base.py:299: UserWarning: Trying to unpickle estimator StandardScaler from version 1.2.2 when using version 1.2.1. This might lead to breaking code or invalid results. Use at your own risk. For more info please refer to:\n",
      "https://scikit-learn.org/stable/model_persistence.html#security-maintainability-limitations\n",
      "  warnings.warn(\n",
      "C:\\Users\\Paco\\anaconda3\\lib\\site-packages\\sklearn\\base.py:299: UserWarning: Trying to unpickle estimator LogisticRegression from version 1.2.2 when using version 1.2.1. This might lead to breaking code or invalid results. Use at your own risk. For more info please refer to:\n",
      "https://scikit-learn.org/stable/model_persistence.html#security-maintainability-limitations\n",
      "  warnings.warn(\n"
     ]
    }
   ],
   "source": [
    "stats_prediction = pd.read_csv('./df_prediccion_230207.csv')\n",
    "scaler = joblib.load('scaler.joblib')\n",
    "model = joblib.load('modelo_reg_pred.joblib')\n",
    "cols = stats_prediction.columns[1:]"
   ]
  },
  {
   "cell_type": "code",
   "execution_count": 8,
   "id": "107f1333",
   "metadata": {},
   "outputs": [],
   "source": [
    "def predict(red, blue):\n",
    "    \n",
    "    stats_prediction = pd.read_csv('./df_prediccion_230207.csv')\n",
    "    cols = stats_prediction.columns[1:]\n",
    "    pels_names = stats_prediction['Name'].unique()\n",
    "    if (red in pels_names) and (blue in pels_names):\n",
    "        \n",
    "        stats1 = np.array(stats_prediction[stats_prediction['Name'] == red].iloc[:,1:])\n",
    "        stats2 = np.array(stats_prediction[stats_prediction['Name'] == blue].iloc[:,1:])\n",
    "\n",
    "        pred_stats = stats1 - stats2\n",
    "        df = pd.DataFrame(pred_stats, columns=cols)\n",
    "\n",
    "        df.iloc[:, :-5] = scaler.transform(df.iloc[:, :-5])\n",
    "\n",
    "        result = model.predict_proba(df)\n",
    "\n",
    "        if result[0][0]>result[0][1]:\n",
    "            return red\n",
    "        elif result[0][1]>result[0][0]:\n",
    "            return blue\n",
    "        else:\n",
    "            return 'No pediction'\n",
    "        \n",
    "    else:\n",
    "        return 'No pediction'"
   ]
  },
  {
   "cell_type": "code",
   "execution_count": 9,
   "id": "541f5011",
   "metadata": {},
   "outputs": [
    {
     "data": {
      "text/plain": [
       "'Ilia Topuria'"
      ]
     },
     "execution_count": 9,
     "metadata": {},
     "output_type": "execute_result"
    }
   ],
   "source": [
    "predict(fights['Red'][0], fights['Blue'][0])"
   ]
  },
  {
   "cell_type": "code",
   "execution_count": 10,
   "id": "ef1911fa",
   "metadata": {},
   "outputs": [],
   "source": [
    "fights['Predicted winner'] = fights.apply(lambda x: predict(x['Red'], x['Blue']), axis = 1)"
   ]
  },
  {
   "cell_type": "code",
   "execution_count": 11,
   "id": "c1ae9eeb",
   "metadata": {},
   "outputs": [
    {
     "data": {
      "text/html": [
       "<div>\n",
       "<style scoped>\n",
       "    .dataframe tbody tr th:only-of-type {\n",
       "        vertical-align: middle;\n",
       "    }\n",
       "\n",
       "    .dataframe tbody tr th {\n",
       "        vertical-align: top;\n",
       "    }\n",
       "\n",
       "    .dataframe thead th {\n",
       "        text-align: right;\n",
       "    }\n",
       "</style>\n",
       "<table border=\"1\" class=\"dataframe\">\n",
       "  <thead>\n",
       "    <tr style=\"text-align: right;\">\n",
       "      <th></th>\n",
       "      <th>Weight class</th>\n",
       "      <th>Red</th>\n",
       "      <th>Blue</th>\n",
       "      <th>Predicted winner</th>\n",
       "    </tr>\n",
       "  </thead>\n",
       "  <tbody>\n",
       "    <tr>\n",
       "      <th>0</th>\n",
       "      <td>Featherweight</td>\n",
       "      <td>Josh Emmett</td>\n",
       "      <td>Ilia Topuria</td>\n",
       "      <td>Ilia Topuria</td>\n",
       "    </tr>\n",
       "    <tr>\n",
       "      <th>1</th>\n",
       "      <td>Women's Flyweight</td>\n",
       "      <td>Amanda Ribas</td>\n",
       "      <td>Maycee Barber</td>\n",
       "      <td>Amanda Ribas</td>\n",
       "    </tr>\n",
       "    <tr>\n",
       "      <th>2</th>\n",
       "      <td>Heavyweight</td>\n",
       "      <td>Austen Lane</td>\n",
       "      <td>Justin Tafa</td>\n",
       "      <td>No pediction</td>\n",
       "    </tr>\n",
       "    <tr>\n",
       "      <th>3</th>\n",
       "      <td>Featherweight</td>\n",
       "      <td>David Onama</td>\n",
       "      <td>Gabriel Santos</td>\n",
       "      <td>Gabriel Santos</td>\n",
       "    </tr>\n",
       "    <tr>\n",
       "      <th>4</th>\n",
       "      <td>Middleweight</td>\n",
       "      <td>Brendan Allen</td>\n",
       "      <td>Bruno Silva</td>\n",
       "      <td>Brendan Allen</td>\n",
       "    </tr>\n",
       "    <tr>\n",
       "      <th>5</th>\n",
       "      <td>Welterweight</td>\n",
       "      <td>Neil Magny</td>\n",
       "      <td>Phil Rowe</td>\n",
       "      <td>Neil Magny</td>\n",
       "    </tr>\n",
       "    <tr>\n",
       "      <th>6</th>\n",
       "      <td>Welterweight</td>\n",
       "      <td>Randy Brown</td>\n",
       "      <td>Wellington Turman</td>\n",
       "      <td>Randy Brown</td>\n",
       "    </tr>\n",
       "    <tr>\n",
       "      <th>7</th>\n",
       "      <td>Lightweight</td>\n",
       "      <td>Mateusz Rebecki</td>\n",
       "      <td>Loik Radzhabov</td>\n",
       "      <td>Mateusz Rebecki</td>\n",
       "    </tr>\n",
       "    <tr>\n",
       "      <th>8</th>\n",
       "      <td>Women's Strawweight</td>\n",
       "      <td>Tabatha Ricci</td>\n",
       "      <td>Gillian Robertson</td>\n",
       "      <td>Tabatha Ricci</td>\n",
       "    </tr>\n",
       "    <tr>\n",
       "      <th>9</th>\n",
       "      <td>Flyweight</td>\n",
       "      <td>Zhalgas Zhumagulov</td>\n",
       "      <td>Joshua Van</td>\n",
       "      <td>No pediction</td>\n",
       "    </tr>\n",
       "    <tr>\n",
       "      <th>10</th>\n",
       "      <td>Lightweight</td>\n",
       "      <td>Trevor Peek</td>\n",
       "      <td>Chepe Mariscal</td>\n",
       "      <td>No pediction</td>\n",
       "    </tr>\n",
       "    <tr>\n",
       "      <th>11</th>\n",
       "      <td>Featherweight</td>\n",
       "      <td>Jamall Emmers</td>\n",
       "      <td>Jack Jenkins</td>\n",
       "      <td>Jack Jenkins</td>\n",
       "    </tr>\n",
       "    <tr>\n",
       "      <th>12</th>\n",
       "      <td>Flyweight</td>\n",
       "      <td>Tatsuro Taira</td>\n",
       "      <td>Kleydson Rodrigues</td>\n",
       "      <td>Tatsuro Taira</td>\n",
       "    </tr>\n",
       "    <tr>\n",
       "      <th>13</th>\n",
       "      <td>Middleweight</td>\n",
       "      <td>Cody Brundage</td>\n",
       "      <td>Sedriques Dumas</td>\n",
       "      <td>Cody Brundage</td>\n",
       "    </tr>\n",
       "  </tbody>\n",
       "</table>\n",
       "</div>"
      ],
      "text/plain": [
       "           Weight class                 Red                Blue  \\\n",
       "0         Featherweight         Josh Emmett        Ilia Topuria   \n",
       "1     Women's Flyweight        Amanda Ribas       Maycee Barber   \n",
       "2           Heavyweight         Austen Lane         Justin Tafa   \n",
       "3         Featherweight         David Onama      Gabriel Santos   \n",
       "4          Middleweight       Brendan Allen         Bruno Silva   \n",
       "5          Welterweight          Neil Magny           Phil Rowe   \n",
       "6          Welterweight         Randy Brown   Wellington Turman   \n",
       "7           Lightweight     Mateusz Rebecki      Loik Radzhabov   \n",
       "8   Women's Strawweight       Tabatha Ricci   Gillian Robertson   \n",
       "9             Flyweight  Zhalgas Zhumagulov          Joshua Van   \n",
       "10          Lightweight         Trevor Peek      Chepe Mariscal   \n",
       "11        Featherweight       Jamall Emmers        Jack Jenkins   \n",
       "12            Flyweight       Tatsuro Taira  Kleydson Rodrigues   \n",
       "13         Middleweight       Cody Brundage     Sedriques Dumas   \n",
       "\n",
       "   Predicted winner  \n",
       "0      Ilia Topuria  \n",
       "1      Amanda Ribas  \n",
       "2      No pediction  \n",
       "3    Gabriel Santos  \n",
       "4     Brendan Allen  \n",
       "5        Neil Magny  \n",
       "6       Randy Brown  \n",
       "7   Mateusz Rebecki  \n",
       "8     Tabatha Ricci  \n",
       "9      No pediction  \n",
       "10     No pediction  \n",
       "11     Jack Jenkins  \n",
       "12    Tatsuro Taira  \n",
       "13    Cody Brundage  "
      ]
     },
     "execution_count": 11,
     "metadata": {},
     "output_type": "execute_result"
    }
   ],
   "source": [
    "fights"
   ]
  },
  {
   "cell_type": "code",
   "execution_count": 12,
   "id": "ea495cdf",
   "metadata": {},
   "outputs": [],
   "source": [
    "fights.to_csv('./next_event.csv', index = False)"
   ]
  },
  {
   "cell_type": "code",
   "execution_count": null,
   "id": "4e306dbb",
   "metadata": {},
   "outputs": [],
   "source": []
  },
  {
   "cell_type": "code",
   "execution_count": null,
   "id": "19592af1",
   "metadata": {},
   "outputs": [],
   "source": []
  }
 ],
 "metadata": {
  "kernelspec": {
   "display_name": "Python 3 (ipykernel)",
   "language": "python",
   "name": "python3"
  },
  "language_info": {
   "codemirror_mode": {
    "name": "ipython",
    "version": 3
   },
   "file_extension": ".py",
   "mimetype": "text/x-python",
   "name": "python",
   "nbconvert_exporter": "python",
   "pygments_lexer": "ipython3",
   "version": "3.10.9"
  }
 },
 "nbformat": 4,
 "nbformat_minor": 5
}
